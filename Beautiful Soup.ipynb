{
 "cells": [
  {
   "cell_type": "code",
   "execution_count": 1,
   "metadata": {},
   "outputs": [
    {
     "name": "stdout",
     "output_type": "stream",
     "text": [
      "SadC1 - YouTube\n",
      "My Wish - YouTube\n",
      "Rascal Flatts- Here Comes Goodbye (Lyrics) - YouTube\n",
      "Let It Hurt - Rascal Flatts - YouTube\n",
      "Reba McEntire & Kelly Clarkson  Because of You with lyrics - YouTube\n"
     ]
    }
   ],
   "source": [
    "from bs4 import BeautifulSoup as bs\n",
    "from urllib.request import urlopen\n",
    "\n",
    "url = 'https://www.youtube.com/playlist?list=PLInXayGqDh8ki7V3vvz7KFnQUnTNCkEw_'\n",
    "url1 = 'https://www.youtube.com/watch?v=c6MZ4Pqoywg&index=2&list=PLInXayGqDh8ki7V3vvz7KFnQUnTNCkEw_&t=0s'\n",
    "url2 = 'https://www.youtube.com/watch?v=HIczlV9bjpY&index=2&list=PLInXayGqDh8ki7V3vvz7KFnQUnTNCkEw_'\n",
    "url3 = 'https://www.youtube.com/watch?v=AIslcAtrWvs&index=3&list=PLInXayGqDh8ki7V3vvz7KFnQUnTNCkEw_'\n",
    "url4 = 'https://www.youtube.com/watch?v=gxadAS9qU3k&index=4&list=PLInXayGqDh8ki7V3vvz7KFnQUnTNCkEw_'\n",
    "\n",
    "page = urlopen(url)\n",
    "page1 = urlopen(url1)\n",
    "page2 = urlopen(url2)\n",
    "page3 = urlopen(url3)\n",
    "page4 = urlopen(url4)\n",
    "soup =bs(page, 'html.parser')\n",
    "soup1 =bs(page1, 'html.parser')\n",
    "soup2 =bs(page2, 'html.parser')\n",
    "soup3 =bs(page3, 'html.parser')\n",
    "soup4 =bs(page4, 'html.parser')\n",
    "print(soup.title.get_text())\n",
    "print(soup1.title.get_text())\n",
    "print(soup2.title.get_text())\n",
    "print(soup3.title.get_text())\n",
    "print(soup4.title.get_text())"
   ]
  },
  {
   "cell_type": "code",
   "execution_count": 4,
   "metadata": {},
   "outputs": [
    {
     "data": {
      "text/plain": [
       "'SadC1 - YouTube'"
      ]
     },
     "execution_count": 4,
     "metadata": {},
     "output_type": "execute_result"
    }
   ],
   "source": [
    "soup.title.get_text()"
   ]
  },
  {
   "cell_type": "code",
   "execution_count": 7,
   "metadata": {},
   "outputs": [],
   "source": [
    "import pandas as pd\n",
    "user_playlist = pd.DataFrame()"
   ]
  },
  {
   "cell_type": "code",
   "execution_count": null,
   "metadata": {
    "collapsed": true
   },
   "outputs": [],
   "source": [
    "user_playlist['Sad_Country']"
   ]
  },
  {
   "cell_type": "code",
   "execution_count": 38,
   "metadata": {},
   "outputs": [],
   "source": [
    "Sad_Country = []\n",
    "\n",
    "def link(http):\n",
    "    url = http\n",
    "    page = urlopen(url)\n",
    "    soup = bs(page, 'html.parser')\n",
    "    return soup.title.get_text()"
   ]
  },
  {
   "cell_type": "code",
   "execution_count": 48,
   "metadata": {},
   "outputs": [
    {
     "data": {
      "text/html": [
       "<div>\n",
       "<style>\n",
       "    .dataframe thead tr:only-child th {\n",
       "        text-align: right;\n",
       "    }\n",
       "\n",
       "    .dataframe thead th {\n",
       "        text-align: left;\n",
       "    }\n",
       "\n",
       "    .dataframe tbody tr th {\n",
       "        vertical-align: top;\n",
       "    }\n",
       "</style>\n",
       "<table border=\"1\" class=\"dataframe\">\n",
       "  <thead>\n",
       "    <tr style=\"text-align: right;\">\n",
       "      <th></th>\n",
       "      <th>0</th>\n",
       "    </tr>\n",
       "  </thead>\n",
       "  <tbody>\n",
       "    <tr>\n",
       "      <th>0</th>\n",
       "      <td>My Wish - YouTube</td>\n",
       "    </tr>\n",
       "    <tr>\n",
       "      <th>1</th>\n",
       "      <td>Rascal Flatts- Here Comes Goodbye (Lyrics) - Y...</td>\n",
       "    </tr>\n",
       "    <tr>\n",
       "      <th>2</th>\n",
       "      <td>Let It Hurt - Rascal Flatts - YouTube</td>\n",
       "    </tr>\n",
       "    <tr>\n",
       "      <th>3</th>\n",
       "      <td>Reba McEntire &amp; Kelly Clarkson  Because of You...</td>\n",
       "    </tr>\n",
       "  </tbody>\n",
       "</table>\n",
       "</div>"
      ],
      "text/plain": [
       "                                                   0\n",
       "0                                  My Wish - YouTube\n",
       "1  Rascal Flatts- Here Comes Goodbye (Lyrics) - Y...\n",
       "2              Let It Hurt - Rascal Flatts - YouTube\n",
       "3  Reba McEntire & Kelly Clarkson  Because of You..."
      ]
     },
     "execution_count": 48,
     "metadata": {},
     "output_type": "execute_result"
    }
   ],
   "source": [
    "Sad_Country.append(link(url4))\n",
    "pd.DataFrame(Sad_Country)"
   ]
  }
 ],
 "metadata": {
  "kernelspec": {
   "display_name": "Python 3",
   "language": "python",
   "name": "python3"
  },
  "language_info": {
   "codemirror_mode": {
    "name": "ipython",
    "version": 3
   },
   "file_extension": ".py",
   "mimetype": "text/x-python",
   "name": "python",
   "nbconvert_exporter": "python",
   "pygments_lexer": "ipython3",
   "version": "3.6.1"
  }
 },
 "nbformat": 4,
 "nbformat_minor": 2
}
