{
 "cells": [
  {
   "cell_type": "code",
   "execution_count": 4,
   "metadata": {
    "collapsed": true
   },
   "outputs": [
    {
     "ename": "KeyboardInterrupt",
     "evalue": "",
     "output_type": "error",
     "traceback": [
      "\u001b[0;31m---------------------------------------------------------------------------\u001b[0m",
      "\u001b[0;31mKeyboardInterrupt\u001b[0m                         Traceback (most recent call last)",
      "\u001b[0;32m~/anaconda3/lib/python3.6/site-packages/ipykernel/kernelbase.py\u001b[0m in \u001b[0;36m_input_request\u001b[0;34m(self, prompt, ident, parent, password)\u001b[0m\n\u001b[1;32m    729\u001b[0m             \u001b[0;32mtry\u001b[0m\u001b[0;34m:\u001b[0m\u001b[0;34m\u001b[0m\u001b[0m\n\u001b[0;32m--> 730\u001b[0;31m                 \u001b[0mident\u001b[0m\u001b[0;34m,\u001b[0m \u001b[0mreply\u001b[0m \u001b[0;34m=\u001b[0m \u001b[0mself\u001b[0m\u001b[0;34m.\u001b[0m\u001b[0msession\u001b[0m\u001b[0;34m.\u001b[0m\u001b[0mrecv\u001b[0m\u001b[0;34m(\u001b[0m\u001b[0mself\u001b[0m\u001b[0;34m.\u001b[0m\u001b[0mstdin_socket\u001b[0m\u001b[0;34m,\u001b[0m \u001b[0;36m0\u001b[0m\u001b[0;34m)\u001b[0m\u001b[0;34m\u001b[0m\u001b[0m\n\u001b[0m\u001b[1;32m    731\u001b[0m             \u001b[0;32mexcept\u001b[0m \u001b[0mException\u001b[0m\u001b[0;34m:\u001b[0m\u001b[0;34m\u001b[0m\u001b[0m\n",
      "\u001b[0;32m~/anaconda3/lib/python3.6/site-packages/jupyter_client/session.py\u001b[0m in \u001b[0;36mrecv\u001b[0;34m(self, socket, mode, content, copy)\u001b[0m\n\u001b[1;32m    795\u001b[0m         \u001b[0;32mtry\u001b[0m\u001b[0;34m:\u001b[0m\u001b[0;34m\u001b[0m\u001b[0m\n\u001b[0;32m--> 796\u001b[0;31m             \u001b[0mmsg_list\u001b[0m \u001b[0;34m=\u001b[0m \u001b[0msocket\u001b[0m\u001b[0;34m.\u001b[0m\u001b[0mrecv_multipart\u001b[0m\u001b[0;34m(\u001b[0m\u001b[0mmode\u001b[0m\u001b[0;34m,\u001b[0m \u001b[0mcopy\u001b[0m\u001b[0;34m=\u001b[0m\u001b[0mcopy\u001b[0m\u001b[0;34m)\u001b[0m\u001b[0;34m\u001b[0m\u001b[0m\n\u001b[0m\u001b[1;32m    797\u001b[0m         \u001b[0;32mexcept\u001b[0m \u001b[0mzmq\u001b[0m\u001b[0;34m.\u001b[0m\u001b[0mZMQError\u001b[0m \u001b[0;32mas\u001b[0m \u001b[0me\u001b[0m\u001b[0;34m:\u001b[0m\u001b[0;34m\u001b[0m\u001b[0m\n",
      "\u001b[0;32m~/anaconda3/lib/python3.6/site-packages/zmq/sugar/socket.py\u001b[0m in \u001b[0;36mrecv_multipart\u001b[0;34m(self, flags, copy, track)\u001b[0m\n\u001b[1;32m    394\u001b[0m         \"\"\"\n\u001b[0;32m--> 395\u001b[0;31m         \u001b[0mparts\u001b[0m \u001b[0;34m=\u001b[0m \u001b[0;34m[\u001b[0m\u001b[0mself\u001b[0m\u001b[0;34m.\u001b[0m\u001b[0mrecv\u001b[0m\u001b[0;34m(\u001b[0m\u001b[0mflags\u001b[0m\u001b[0;34m,\u001b[0m \u001b[0mcopy\u001b[0m\u001b[0;34m=\u001b[0m\u001b[0mcopy\u001b[0m\u001b[0;34m,\u001b[0m \u001b[0mtrack\u001b[0m\u001b[0;34m=\u001b[0m\u001b[0mtrack\u001b[0m\u001b[0;34m)\u001b[0m\u001b[0;34m]\u001b[0m\u001b[0;34m\u001b[0m\u001b[0m\n\u001b[0m\u001b[1;32m    396\u001b[0m         \u001b[0;31m# have first part already, only loop while more to receive\u001b[0m\u001b[0;34m\u001b[0m\u001b[0;34m\u001b[0m\u001b[0m\n",
      "\u001b[0;32mzmq/backend/cython/socket.pyx\u001b[0m in \u001b[0;36mzmq.backend.cython.socket.Socket.recv (zmq/backend/cython/socket.c:7683)\u001b[0;34m()\u001b[0m\n",
      "\u001b[0;32mzmq/backend/cython/socket.pyx\u001b[0m in \u001b[0;36mzmq.backend.cython.socket.Socket.recv (zmq/backend/cython/socket.c:7460)\u001b[0;34m()\u001b[0m\n",
      "\u001b[0;32mzmq/backend/cython/socket.pyx\u001b[0m in \u001b[0;36mzmq.backend.cython.socket._recv_copy (zmq/backend/cython/socket.c:2344)\u001b[0;34m()\u001b[0m\n",
      "\u001b[0;32m~/anaconda3/lib/python3.6/site-packages/zmq/backend/cython/checkrc.pxd\u001b[0m in \u001b[0;36mzmq.backend.cython.checkrc._check_rc (zmq/backend/cython/socket.c:9621)\u001b[0;34m()\u001b[0m\n",
      "\u001b[0;31mKeyboardInterrupt\u001b[0m: ",
      "\nDuring handling of the above exception, another exception occurred:\n",
      "\u001b[0;31mKeyboardInterrupt\u001b[0m                         Traceback (most recent call last)",
      "\u001b[0;32m<ipython-input-4-9b660e4e9e59>\u001b[0m in \u001b[0;36m<module>\u001b[0;34m()\u001b[0m\n\u001b[1;32m     25\u001b[0m \u001b[0;34m\u001b[0m\u001b[0m\n\u001b[1;32m     26\u001b[0m \u001b[0;32mwhile\u001b[0m \u001b[0mmusicFound\u001b[0m \u001b[0;34m==\u001b[0m \u001b[0;34m'n'\u001b[0m\u001b[0;34m:\u001b[0m\u001b[0;34m\u001b[0m\u001b[0m\n\u001b[0;32m---> 27\u001b[0;31m     \u001b[0mmood\u001b[0m \u001b[0;34m=\u001b[0m \u001b[0;34m(\u001b[0m\u001b[0minput\u001b[0m\u001b[0;34m(\u001b[0m\u001b[0;34m\"Enter how you are feeling(your mood)\\n>>\"\u001b[0m\u001b[0;34m)\u001b[0m\u001b[0;34m)\u001b[0m\u001b[0;34m\u001b[0m\u001b[0m\n\u001b[0m\u001b[1;32m     28\u001b[0m     \u001b[0mmusic\u001b[0m \u001b[0;34m=\u001b[0m \u001b[0minput\u001b[0m\u001b[0;34m(\u001b[0m\u001b[0;34m\"Enter the type of music you want to hear, either pop, country, EDM, Classical, or Rock\\n>>\"\u001b[0m\u001b[0;34m)\u001b[0m\u001b[0;34m\u001b[0m\u001b[0m\n\u001b[1;32m     29\u001b[0m     \u001b[0;32mtry\u001b[0m\u001b[0;34m:\u001b[0m\u001b[0;34m\u001b[0m\u001b[0m\n",
      "\u001b[0;32m~/anaconda3/lib/python3.6/site-packages/ipykernel/kernelbase.py\u001b[0m in \u001b[0;36mraw_input\u001b[0;34m(self, prompt)\u001b[0m\n\u001b[1;32m    703\u001b[0m             \u001b[0mself\u001b[0m\u001b[0;34m.\u001b[0m\u001b[0m_parent_ident\u001b[0m\u001b[0;34m,\u001b[0m\u001b[0;34m\u001b[0m\u001b[0m\n\u001b[1;32m    704\u001b[0m             \u001b[0mself\u001b[0m\u001b[0;34m.\u001b[0m\u001b[0m_parent_header\u001b[0m\u001b[0;34m,\u001b[0m\u001b[0;34m\u001b[0m\u001b[0m\n\u001b[0;32m--> 705\u001b[0;31m             \u001b[0mpassword\u001b[0m\u001b[0;34m=\u001b[0m\u001b[0;32mFalse\u001b[0m\u001b[0;34m,\u001b[0m\u001b[0;34m\u001b[0m\u001b[0m\n\u001b[0m\u001b[1;32m    706\u001b[0m         )\n\u001b[1;32m    707\u001b[0m \u001b[0;34m\u001b[0m\u001b[0m\n",
      "\u001b[0;32m~/anaconda3/lib/python3.6/site-packages/ipykernel/kernelbase.py\u001b[0m in \u001b[0;36m_input_request\u001b[0;34m(self, prompt, ident, parent, password)\u001b[0m\n\u001b[1;32m    733\u001b[0m             \u001b[0;32mexcept\u001b[0m \u001b[0mKeyboardInterrupt\u001b[0m\u001b[0;34m:\u001b[0m\u001b[0;34m\u001b[0m\u001b[0m\n\u001b[1;32m    734\u001b[0m                 \u001b[0;31m# re-raise KeyboardInterrupt, to truncate traceback\u001b[0m\u001b[0;34m\u001b[0m\u001b[0;34m\u001b[0m\u001b[0m\n\u001b[0;32m--> 735\u001b[0;31m                 \u001b[0;32mraise\u001b[0m \u001b[0mKeyboardInterrupt\u001b[0m\u001b[0;34m\u001b[0m\u001b[0m\n\u001b[0m\u001b[1;32m    736\u001b[0m             \u001b[0;32melse\u001b[0m\u001b[0;34m:\u001b[0m\u001b[0;34m\u001b[0m\u001b[0m\n\u001b[1;32m    737\u001b[0m                 \u001b[0;32mbreak\u001b[0m\u001b[0;34m\u001b[0m\u001b[0m\n",
      "\u001b[0;31mKeyboardInterrupt\u001b[0m: "
     ]
    }
   ],
   "source": [
    "#mood and music\n",
    "# this is a program that will give you a playlist based on your mood and your taste of music\n",
    "#what I want is that every time it runs it'll give a different playlist (loop)\n",
    "#Then it writes to a text file the songs from the playlist?\n",
    "#define a function\n",
    "# use modeules\n",
    "#Error handling\n",
    "#camelcase\n",
    "#put a statement that if it gives an error tells you to turn on your internet\n",
    "\n",
    "#You must be connected to the internet for this code to work\n",
    "import webbrowser\n",
    "\n",
    "angry = ['a', 'Angry', 'angry' , 'ANGRY' , 'MAD', 'ANGRY!', 'mad']\n",
    "happy = ['h', 'happy', 'HAPPY' , 'Happy' , 'H', 'Excited', 'Cheerful']\n",
    "sad = ['s', 'sad', 'Sad' , 'SAD' , 'Upset', 'upset']\n",
    "romantic = ['r', 'romantic', 'Romantic' , 'R' , 'ROMANTIC', 'love', 'L']\n",
    "\n",
    "popMusic = ['pop', 'Pop', 'p', 'POP']\n",
    "countryMusic = ['country', 'Country', 'c', 'C', 'COUNTRY']\n",
    "edmMusic = ['edm', 'EDM', 'Edm', 'E' , 'e']\n",
    "rockMusic = ['Rock', 'rock', 'ROCK', 'r', 'R']\n",
    "\n",
    "musicFound = 'n'\n",
    "\n",
    "while musicFound == 'n':\n",
    "    mood = (input(\"Enter how you are feeling(your mood)\\n>>\"))\n",
    "    music = input(\"Enter the type of music you want to hear, either pop, country, EDM, Classical, or Rock\\n>>\")\n",
    "    try:\n",
    "        if mood in angry and music in popMusic:\n",
    "            webbrowser.open('https://www.youtube.com/watch?v=p0BiGek2bKA&list=PLInXayGqDh8koPxaYfvYGF_U1BC_DHOC6&index=1')\n",
    "            musicFound = 'y'\n",
    "        elif mood in angry and music in countryMusic:\n",
    "            webbrowser.open('https://www.youtube.com/watch?v=WaSy8yy-mr8&list=RDQML0tO4Xq5Y0o&start_radio=1')\n",
    "            musicFound = 'y'\n",
    "        elif mood in angry and music in edmMusic:\n",
    "            webbrowser.open('https://www.youtube.com/watch?v=qMH0Xglh7GA&index=2&t=0s&list=PLInXayGqDh8m4IVtEKYBnJd-WCl9BdCXG')\n",
    "            musicFound = 'y'\n",
    "        elif mood in angry and music in rockMusic:\n",
    "            webbrowser.open('https://www.youtube.com/watch?v=xqds0B_meys&index=2&list=PLInXayGqDh8lgDOCHY2lhOzJOarft5H0V&t=0s')\n",
    "            musicFound = 'y'\n",
    "\n",
    "        if mood in happy and music in popMusic:\n",
    "            webbrowser.open('https://www.youtube.com/watch?v=ZbZSe6N_BXs&index=2&list=PLInXayGqDh8l397QH20uVt4NEepCuiLEj&t=0s')\n",
    "            musicFound = 'y'\n",
    "        elif mood in happy and music in countryMusic:\n",
    "            webbrowser.open('https://www.youtube.com/watch?v=HgknAaKNaMM&t=0s&list=PLInXayGqDh8m9KpTmlUwuPvqO3zOptNT8&index=2')\n",
    "            musicFound = 'y'\n",
    "        elif mood in happy and music in edmMusic:\n",
    "            webbrowser.open('https://www.youtube.com/watch?v=MjEYCUJuh-g&t=0s&index=2&list=PLInXayGqDh8ne-J29qSOic-s97RdRVvmQ')\n",
    "            musicFound = 'y'\n",
    "        elif mood in happy and music in rockMusic:\n",
    "            webbrowser.open('https://www.youtube.com/watch?v=SAaO6XvUhd0&index=2&list=PLInXayGqDh8mLhLvdGH02EkuT5czERqz6&t=0s')\n",
    "            musicFound = 'y'\n",
    "          \n",
    "        if mood in sad and music in popMusic:\n",
    "            webbrowser.open('https://www.youtube.com/watch?v=ij_0p_6qTss&t=0s&index=2&list=PLInXayGqDh8nd9aY0xtfClhHH35qGyo5f')\n",
    "            musicFound = 'y'\n",
    "        elif mood in sad and music in countryMusic:\n",
    "            webbrowser.open('https://www.youtube.com/playlist?list=PLInXayGqDh8ki7V3vvz7KFnQUnTNCkEw_')\n",
    "            musicFound = 'y'\n",
    "        elif mood in sad and music in edmMusic:\n",
    "            webbrowser.open('https://www.youtube.com/playlist?list=PLInXayGqDh8n-TtrvpF9NcfQLn6wyi6lY')\n",
    "            musicFound = 'y'\n",
    "        elif mood in sad and music in rockMusic:\n",
    "            webbrowser.open('https://www.youtube.com/watch?v=4OjiOn5s8s8&list=PLInXayGqDh8mpkvc5w3Z5LapOYjsVs3ba&index=11&t=0s')\n",
    "            musicFound = 'y'\n",
    "\n",
    "        if mood in romantic and music in popMusic:\n",
    "            webbrowser.open('https://www.youtube.com/watch?v=3AtDnEC4zak&index=2&list=PLInXayGqDh8kIJYRwpRiLI6VC9fcGPTrd&t=0s')\n",
    "            musicFound = 'y'\n",
    "        elif mood in romantic and music in countryMusic:\n",
    "            webbrowser.open('https://www.youtube.com/watch?v=7qaHdHpSjX8&index=16&t=0s&list=PLInXayGqDh8nPKAt_lBW7J4nGZ0OCCfyG')\n",
    "            musicFound = 'y'\n",
    "        elif mood in romantic and music in edmMusic:\n",
    "            webbrowser.open('https://www.youtube.com/watch?v=ku16PsxpZGU&t=0s&list=PLInXayGqDh8lbZYbU11VkskM5X6ElQWmH&index=2')\n",
    "            musicFound = 'y'\n",
    "        elif mood in romantic and music in rockMusic:\n",
    "            webbrowser.open('https://www.youtube.com/watch?v=iAP9AF6DCu4&t=0s&list=PLInXayGqDh8l9jKsHEtZg1ytzyuSafW3A&index=2')\n",
    "            musicFound = 'y'\n",
    "    except:\n",
    "        print('something went seriously wrong!!! Try Connecting to the internet again') #statement isn't working\n",
    "\n",
    "\n",
    "#scrap data name of song from youtube then put into file using beatiful soup"
   ]
  },
  {
   "cell_type": "code",
   "execution_count": null,
   "metadata": {
    "collapsed": true
   },
   "outputs": [],
   "source": [
    "musicFound = 'n'\n",
    "while musicFound != 'y':\n",
    "    \n",
    "    mood = input(\"Enter how you are feeling(your mood)\\n>>\")\n",
    "    music = input(\"Enter the type of music you want to hear, either pop, country, EDM, Classical, or Rock\\n>>\")\n",
    "\n",
    "    # angry\n",
    "    if mood in angry_words and music in popMusic:\n",
    "        webbrowser.open(angry.link[0])\n",
    "        musicFound = 'y'    \n",
    "        p()\n",
    "    elif mood in angry_words and music in countryMusic:\n",
    "        webbrowser.open(angry.link[1])\n",
    "        musicFound = 'y'\n",
    "        p()\n",
    "    elif mood in angry_words and music in edmMusic:\n",
    "        webbrowser.open(angry.link[2])    \n",
    "        musicFound = 'y'\n",
    "        p()\n",
    "    elif mood in angry_words and music in rockMusic:\n",
    "        webbrowser.open(angry.link[3])\n",
    "        musicFound = 'y'\n",
    "        p()\n",
    "\n",
    "    # happy\n",
    "    elif mood in happy_words and music in popMusic:\n",
    "        webbrowser.open(happy.link[0])\n",
    "        musicFound = 'y'\n",
    "    elif mood in happy_words and music in countryMusic:\n",
    "        webbrowser.open(happy.link[1])\n",
    "        musicFound = 'y'\n",
    "    elif mood in happy_words and music in edmMusic:\n",
    "        webbrowser.open(happy.link[2])\n",
    "        musicFound = 'y'\n",
    "    elif mood in happy_words and music in rockMusic:\n",
    "        webbrowser.open(happy.link[3])\n",
    "        musicFound = 'y'\n",
    "\n",
    "    # sad\n",
    "    elif mood in sad_words and music in popMusic:\n",
    "        webbrowser.open(sad.link[0])\n",
    "        musicFound = 'y'\n",
    "    elif mood in sad_words and music in countryMusic:\n",
    "        webbrowser.open(sad.link[1])\n",
    "        musicFound = 'y'\n",
    "    elif mood in sad_words and music in edmMusic:\n",
    "        webbrowser.open(sad.link[2])\n",
    "        musicFound = 'y'\n",
    "    elif mood in sad_words and music in rockMusic:\n",
    "        webbrowser.open(sad.link[3])\n",
    "        musicFound = 'y'\n",
    "\n",
    "    # romantic\n",
    "    elif mood in romantic_words and music in popMusic:\n",
    "        webbrowser.open(romantic.link[0])\n",
    "        musicFound = 'y'\n",
    "    elif mood in romantic_words and music in countryMusic:\n",
    "        webbrowser.open(romantic.link[1])\n",
    "        musicFound = 'y'\n",
    "    elif mood in romantic_words and music in edmMusic:\n",
    "        webbrowser.open(romantic.link[2])\n",
    "        musicFound = 'y'\n",
    "    elif mood in romantic_words and music in rockMusic:\n",
    "        webbrowser.open(romantic.link[3])\n",
    "        musicFound = 'y'\n",
    "        p()\n",
    "\n",
    "    else:\n",
    "        print('Sorry! take care')\n"
   ]
  },
  {
   "cell_type": "code",
   "execution_count": 5,
   "metadata": {
    "collapsed": true
   },
   "outputs": [],
   "source": [
    "import webbrowser\n",
    "import pandas as pd"
   ]
  },
  {
   "cell_type": "code",
   "execution_count": 1,
   "metadata": {},
   "outputs": [],
   "source": [
    "# creating key-value pairs for genres and links\n",
    "\n",
    "# angry playlist \n",
    "angry_playlist = {'popMusic' : 'https://www.youtube.com/watch?v=p0BiGek2bKA&list=PLInXayGqDh8koPxaYfvYGF_U1BC_DHOC6&index=1',\n",
    "                 'countryMusic' : 'https://www.youtube.com/watch?v=WaSy8yy-mr8&list=RDQML0tO4Xq5Y0o&start_radio=1',\n",
    "                 'edmMusic' : 'https://www.youtube.com/watch?v=qMH0Xglh7GA&index=2&t=0s&list=PLInXayGqDh8m4IVtEKYBnJd-WCl9BdCXG',\n",
    "                 'rockMusic' : 'https://www.youtube.com/watch?v=xqds0B_meys&index=2&list=PLInXayGqDh8lgDOCHY2lhOzJOarft5H0V&t=0s'}\n",
    "\n",
    "# happy playlist\n",
    "happy_playlist = {'popMusic' : 'https://www.youtube.com/watch?v=ZbZSe6N_BXs&index=2&list=PLInXayGqDh8l397QH20uVt4NEepCuiLEj&t=0s',\n",
    "                 'countryMusic' : 'https://www.youtube.com/watch?v=HgknAaKNaMM&t=0s&list=PLInXayGqDh8m9KpTmlUwuPvqO3zOptNT8&index=2',\n",
    "                 'edmMusic' : 'https://www.youtube.com/watch?v=MjEYCUJuh-g&t=0s&index=2&list=PLInXayGqDh8ne-J29qSOic-s97RdRVvmQ',\n",
    "                 'rockMusic' : 'https://www.youtube.com/watch?v=SAaO6XvUhd0&index=2&list=PLInXayGqDh8mLhLvdGH02EkuT5czERqz6&t=0s' }\n",
    "\n",
    "sad_playlist = {'popMusic' : 'https://www.youtube.com/watch?v=ij_0p_6qTss&t=0s&index=2&list=PLInXayGqDh8nd9aY0xtfClhHH35qGyo5f',\n",
    "                 'countryMusic' : 'https://www.youtube.com/playlist?list=PLInXayGqDh8ki7V3vvz7KFnQUnTNCkEw_',\n",
    "                 'edmMusic' : 'https://www.youtube.com/playlist?list=PLInXayGqDh8n-TtrvpF9NcfQLn6wyi6lY',\n",
    "                 'rockMusic' : 'https://www.youtube.com/watch?v=4OjiOn5s8s8&list=PLInXayGqDh8mpkvc5w3Z5LapOYjsVs3ba&index=11&t=0s' }\n",
    "\n",
    "romantic_playlist = {'popMusic' : 'https://www.youtube.com/watch?v=3AtDnEC4zak&index=2&list=PLInXayGqDh8kIJYRwpRiLI6VC9fcGPTrd&t=0s',\n",
    "                 'countryMusic' : 'https://www.youtube.com/watch?v=7qaHdHpSjX8&index=16&t=0s&list=PLInXayGqDh8nPKAt_lBW7J4nGZ0OCCfyG',\n",
    "                 'edmMusic' : 'https://www.youtube.com/watch?v=ku16PsxpZGU&t=0s&list=PLInXayGqDh8lbZYbU11VkskM5X6ElQWmH&index=2',\n",
    "                 'rockMusic' : 'https://www.youtube.com/watch?v=iAP9AF6DCu4&t=0s&list=PLInXayGqDh8l9jKsHEtZg1ytzyuSafW3A&index=2' }"
   ]
  },
  {
   "cell_type": "code",
   "execution_count": 2,
   "metadata": {},
   "outputs": [],
   "source": [
    "# making empty dataframes\n",
    "angry = pd.DataFrame()\n",
    "happy = pd.DataFrame()\n",
    "sad = pd.DataFrame()\n",
    "romantic = pd.DataFrame()"
   ]
  },
  {
   "cell_type": "code",
   "execution_count": 161,
   "metadata": {},
   "outputs": [],
   "source": [
    "# storing angry, happy, sad, romantic dictionaries in data frames\n",
    "angry['genre'] = angry_playlist.keys()\n",
    "angry['link'] = angry_playlist.values()\n",
    "angry_words = ['a', 'Angry', 'angry' , 'ANGRY' , 'MAD', 'ANGRY!', 'mad']\n",
    "\n",
    "happy['genre'] = happy_playlist.keys()\n",
    "happy['link'] = happy_playlist.values()\n",
    "happy_words = ['h', 'happy', 'HAPPY' , 'Happy' , 'H', 'Excited', 'Cheerful']\n",
    "\n",
    "sad['genre'] = sad_playlist.keys()\n",
    "sad['link'] = sad_playlist.values()\n",
    "sad_words = ['s', 'sad', 'Sad' , 'SAD' , 'Upset', 'upset']\n",
    "\n",
    "romantic['genre'] = romantic_playlist.keys()\n",
    "romantic['link'] = romantic_playlist.values()\n",
    "romantic_words = ['r', 'romantic', 'Romantic' , 'R' , 'ROMANTIC', 'love', 'L']\n",
    "\n",
    "popMusic = ['pop', 'Pop', 'p', 'POP']\n",
    "countryMusic = ['country', 'Country', 'c', 'C', 'COUNTRY']\n",
    "edmMusic = ['edm', 'EDM', 'Edm', 'E' , 'e']\n",
    "rockMusic = ['Rock', 'rock', 'ROCK', 'r', 'R']\n",
    "\n",
    "musicFound = 'n'"
   ]
  },
  {
   "cell_type": "code",
   "execution_count": 199,
   "metadata": {},
   "outputs": [
    {
     "data": {
      "text/html": [
       "<div>\n",
       "<style>\n",
       "    .dataframe thead tr:only-child th {\n",
       "        text-align: right;\n",
       "    }\n",
       "\n",
       "    .dataframe thead th {\n",
       "        text-align: left;\n",
       "    }\n",
       "\n",
       "    .dataframe tbody tr th {\n",
       "        vertical-align: top;\n",
       "    }\n",
       "</style>\n",
       "<table border=\"1\" class=\"dataframe\">\n",
       "  <thead>\n",
       "    <tr style=\"text-align: right;\">\n",
       "      <th></th>\n",
       "      <th>genre</th>\n",
       "      <th>link</th>\n",
       "    </tr>\n",
       "  </thead>\n",
       "  <tbody>\n",
       "    <tr>\n",
       "      <th>0</th>\n",
       "      <td>popMusic</td>\n",
       "      <td>https://www.youtube.com/watch?v=p0BiGek2bKA&amp;li...</td>\n",
       "    </tr>\n",
       "    <tr>\n",
       "      <th>1</th>\n",
       "      <td>countryMusic</td>\n",
       "      <td>https://www.youtube.com/watch?v=WaSy8yy-mr8&amp;li...</td>\n",
       "    </tr>\n",
       "    <tr>\n",
       "      <th>2</th>\n",
       "      <td>edmMusic</td>\n",
       "      <td>https://www.youtube.com/watch?v=qMH0Xglh7GA&amp;in...</td>\n",
       "    </tr>\n",
       "    <tr>\n",
       "      <th>3</th>\n",
       "      <td>rockMusic</td>\n",
       "      <td>https://www.youtube.com/watch?v=xqds0B_meys&amp;in...</td>\n",
       "    </tr>\n",
       "  </tbody>\n",
       "</table>\n",
       "</div>"
      ],
      "text/plain": [
       "          genre                                               link\n",
       "0      popMusic  https://www.youtube.com/watch?v=p0BiGek2bKA&li...\n",
       "1  countryMusic  https://www.youtube.com/watch?v=WaSy8yy-mr8&li...\n",
       "2      edmMusic  https://www.youtube.com/watch?v=qMH0Xglh7GA&in...\n",
       "3     rockMusic  https://www.youtube.com/watch?v=xqds0B_meys&in..."
      ]
     },
     "execution_count": 199,
     "metadata": {},
     "output_type": "execute_result"
    }
   ],
   "source": [
    "angry"
   ]
  },
  {
   "cell_type": "code",
   "execution_count": 245,
   "metadata": {},
   "outputs": [],
   "source": [
    "def p():\n",
    "    count = 5\n",
    "    print('Happy Listening')\n",
    "    \n",
    "def g(x, y):\n",
    "\n",
    "    count = 0\n",
    "    while count < 2:\n",
    "\n",
    "        mood = input(\"Enter how you are feeling(your mood)\\n>>\")\n",
    "        music = input(\"Enter the type of music you want to hear, either pop, country, EDM, Classical, or Rock\\n>>\")\n",
    "\n",
    "        if mood in x and music in popMusic:\n",
    "            webbrowser.open(y.link[0])\n",
    "            p()\n",
    "            break\n",
    "        elif mood in x and music in countryMusic:\n",
    "            webbrowser.open(y.link[1])\n",
    "            p()\n",
    "            break\n",
    "        elif mood in x and music in edmMusic:\n",
    "            webbrowser.open(y.link[2])\n",
    "            p()\n",
    "            break\n",
    "        elif mood in x and music in rockMusic:\n",
    "            webbrowser.open(y.link[3])\n",
    "            p()\n",
    "            break\n",
    "        else:\n",
    "            print('Your music not found')\n",
    "\n",
    "        count = count + 1"
   ]
  },
  {
   "cell_type": "code",
   "execution_count": 402,
   "metadata": {
    "scrolled": true
   },
   "outputs": [
    {
     "name": "stdout",
     "output_type": "stream",
     "text": [
      "Enter how you are feeling(your mood)\n",
      ">>h\n",
      "Enter the type of music you want to hear, either pop, country, EDM, Classical, or Rock\n",
      ">>e\n",
      "https://www.youtube.com/watch?v=MjEYCUJuh-g&t=0s&index=2&list=PLInXayGqDh8ne-J29qSOic-s97RdRVvmQ\n"
     ]
    }
   ],
   "source": [
    "mood = input(\"Enter how you are feeling(your mood)\\n>>\")\n",
    "music = input(\"Enter the type of music you want to hear, either pop, country, EDM, Classical, or Rock\\n>>\")\n",
    "\n",
    "for i in range(0, 16):\n",
    "    if mood in all_moods.playlist_word_list[i] and music in all_moods.music_word_list[i]:\n",
    "            print(all_moods.links[i])\n",
    "            store_link = all_moods.links[i]\n",
    "#             webbrowser.open(all_moods.links[i])\n",
    "#             musicFound = 'y'\n",
    "#             p()"
   ]
  },
  {
   "cell_type": "code",
   "execution_count": 380,
   "metadata": {
    "scrolled": true
   },
   "outputs": [
    {
     "ename": "AttributeError",
     "evalue": "type object 'str' has no attribute 'extract'",
     "output_type": "error",
     "traceback": [
      "\u001b[0;31m---------------------------------------------------------------------------\u001b[0m",
      "\u001b[0;31mAttributeError\u001b[0m                            Traceback (most recent call last)",
      "\u001b[0;32m<ipython-input-380-23645c73616d>\u001b[0m in \u001b[0;36m<module>\u001b[0;34m()\u001b[0m\n\u001b[0;32m----> 1\u001b[0;31m \u001b[0mstr\u001b[0m\u001b[0;34m.\u001b[0m\u001b[0mextract\u001b[0m\u001b[0;34m(\u001b[0m\u001b[0mall_moods\u001b[0m\u001b[0;34m.\u001b[0m\u001b[0mmusic_word_list\u001b[0m\u001b[0;34m[\u001b[0m\u001b[0;36m0\u001b[0m\u001b[0;34m]\u001b[0m\u001b[0;34m)\u001b[0m\u001b[0;34m\u001b[0m\u001b[0m\n\u001b[0m",
      "\u001b[0;31mAttributeError\u001b[0m: type object 'str' has no attribute 'extract'"
     ]
    }
   ],
   "source": [
    "str.extract(all_moods.music_word_list[0])"
   ]
  },
  {
   "cell_type": "code",
   "execution_count": 400,
   "metadata": {},
   "outputs": [
    {
     "data": {
      "text/plain": [
       "0     False\n",
       "1     False\n",
       "2     False\n",
       "3     False\n",
       "4     False\n",
       "5     False\n",
       "6     False\n",
       "7     False\n",
       "8     False\n",
       "9     False\n",
       "10    False\n",
       "11    False\n",
       "12    False\n",
       "13    False\n",
       "14    False\n",
       "15    False\n",
       "Name: playlist_word_list, dtype: bool"
      ]
     },
     "execution_count": 400,
     "metadata": {},
     "output_type": "execute_result"
    }
   ],
   "source": [
    "#pd.Series.str.match()\n",
    "all_moods.playlist_word_list.str.match('p')"
   ]
  },
  {
   "cell_type": "code",
   "execution_count": 389,
   "metadata": {},
   "outputs": [
    {
     "name": "stdout",
     "output_type": "stream",
     "text": [
      "n\n"
     ]
    }
   ],
   "source": [
    "import re\n",
    "if re.match('pop', all_moods.music_word_list[0]):\n",
    "    print('yes')\n",
    "else:\n",
    "    print('n')"
   ]
  },
  {
   "cell_type": "code",
   "execution_count": 367,
   "metadata": {},
   "outputs": [
    {
     "data": {
      "text/plain": [
       "False"
      ]
     },
     "execution_count": 367,
     "metadata": {},
     "output_type": "execute_result"
    }
   ],
   "source": [
    "all_moods.playlist_word_list[0] == ('a' for x in list(angry_words))"
   ]
  },
  {
   "cell_type": "code",
   "execution_count": 388,
   "metadata": {},
   "outputs": [
    {
     "data": {
      "text/plain": [
       "\"['pop', 'Pop', 'p', 'POP']\""
      ]
     },
     "execution_count": 388,
     "metadata": {},
     "output_type": "execute_result"
    }
   ],
   "source": [
    "all_moods.music_word_list[0]"
   ]
  },
  {
   "cell_type": "code",
   "execution_count": null,
   "metadata": {
    "collapsed": true
   },
   "outputs": [],
   "source": [
    "if mood in all_moods['playlist_word_list'][i]:\n",
    "    print('is there')"
   ]
  },
  {
   "cell_type": "code",
   "execution_count": 311,
   "metadata": {},
   "outputs": [
    {
     "data": {
      "text/plain": [
       "True"
      ]
     },
     "execution_count": 311,
     "metadata": {},
     "output_type": "execute_result"
    }
   ],
   "source": [
    "'a' in list(all_moods['playlist_word_list'])[0]"
   ]
  },
  {
   "cell_type": "code",
   "execution_count": null,
   "metadata": {
    "collapsed": true
   },
   "outputs": [],
   "source": []
  },
  {
   "cell_type": "code",
   "execution_count": 167,
   "metadata": {
    "collapsed": true
   },
   "outputs": [],
   "source": [
    "# try by putting all the moods in on single dataframe instead of four. Then put it in the loop."
   ]
  },
  {
   "cell_type": "code",
   "execution_count": 293,
   "metadata": {
    "collapsed": true
   },
   "outputs": [],
   "source": [
    "all_moods = pd.DataFrame()"
   ]
  },
  {
   "cell_type": "code",
   "execution_count": 294,
   "metadata": {},
   "outputs": [],
   "source": [
    "all_moods['moods'] = range(0, 16)"
   ]
  },
  {
   "cell_type": "code",
   "execution_count": 295,
   "metadata": {},
   "outputs": [],
   "source": [
    "all_moods.replace([0, 1, 2, 3], 'angry_playlist', inplace = True)\n",
    "all_moods.replace([4, 5, 6, 7], 'happy_playlist', inplace = True)\n",
    "all_moods.replace([8, 9, 10, 11], 'sad_playlist', inplace = True)\n",
    "all_moods.replace([12, 13, 14, 15], 'romantic_playlist', inplace = True)"
   ]
  },
  {
   "cell_type": "code",
   "execution_count": 296,
   "metadata": {},
   "outputs": [],
   "source": [
    "all_moods['genre'] = 0\n",
    "all_moods['links'] = 0"
   ]
  },
  {
   "cell_type": "code",
   "execution_count": 297,
   "metadata": {
    "collapsed": true
   },
   "outputs": [
    {
     "name": "stderr",
     "output_type": "stream",
     "text": [
      "/Users/brandon/anaconda3/lib/python3.6/site-packages/ipykernel_launcher.py:1: SettingWithCopyWarning: \n",
      "A value is trying to be set on a copy of a slice from a DataFrame\n",
      "\n",
      "See the caveats in the documentation: http://pandas.pydata.org/pandas-docs/stable/indexing.html#indexing-view-versus-copy\n",
      "  \"\"\"Entry point for launching an IPython kernel.\n",
      "/Users/brandon/anaconda3/lib/python3.6/site-packages/ipykernel_launcher.py:2: SettingWithCopyWarning: \n",
      "A value is trying to be set on a copy of a slice from a DataFrame\n",
      "\n",
      "See the caveats in the documentation: http://pandas.pydata.org/pandas-docs/stable/indexing.html#indexing-view-versus-copy\n",
      "  \n",
      "/Users/brandon/anaconda3/lib/python3.6/site-packages/ipykernel_launcher.py:3: SettingWithCopyWarning: \n",
      "A value is trying to be set on a copy of a slice from a DataFrame\n",
      "\n",
      "See the caveats in the documentation: http://pandas.pydata.org/pandas-docs/stable/indexing.html#indexing-view-versus-copy\n",
      "  This is separate from the ipykernel package so we can avoid doing imports until\n",
      "/Users/brandon/anaconda3/lib/python3.6/site-packages/ipykernel_launcher.py:4: SettingWithCopyWarning: \n",
      "A value is trying to be set on a copy of a slice from a DataFrame\n",
      "\n",
      "See the caveats in the documentation: http://pandas.pydata.org/pandas-docs/stable/indexing.html#indexing-view-versus-copy\n",
      "  after removing the cwd from sys.path.\n",
      "/Users/brandon/anaconda3/lib/python3.6/site-packages/ipykernel_launcher.py:6: SettingWithCopyWarning: \n",
      "A value is trying to be set on a copy of a slice from a DataFrame\n",
      "\n",
      "See the caveats in the documentation: http://pandas.pydata.org/pandas-docs/stable/indexing.html#indexing-view-versus-copy\n",
      "  \n"
     ]
    }
   ],
   "source": [
    "all_moods['genre'][0:4] = list(angry_playlist.keys())\n",
    "all_moods['genre'][4:8] = list(happy_playlist.keys())\n",
    "all_moods['genre'][8:12] = list(sad_playlist.keys())\n",
    "all_moods['genre'][12:] = list(romantic_playlist.keys())\n",
    "\n",
    "all_moods['links'][0:4] = list(angry_playlist.values())\n",
    "all_moods['links'][4:8] = list(happy_playlist.values())\n",
    "all_moods['links'][8:12] = list(sad_playlist.values())\n",
    "all_moods['links'][12:] = list(romantic_playlist.values())"
   ]
  },
  {
   "cell_type": "code",
   "execution_count": 298,
   "metadata": {
    "collapsed": true
   },
   "outputs": [],
   "source": [
    "all_moods['playlist_word_list'] = range(0, 16)\n",
    "all_moods['music_word_list'] = range(0, 16)"
   ]
  },
  {
   "cell_type": "code",
   "execution_count": 299,
   "metadata": {},
   "outputs": [],
   "source": [
    "all_moods['playlist_word_list'].replace([0, 1, 2, 3], str(angry_words), inplace = True)\n",
    "all_moods['playlist_word_list'].replace([4, 5, 6, 7], str(happy_words), inplace = True)\n",
    "all_moods['playlist_word_list'].replace([8, 9, 10, 11], str(sad_words), inplace = True)\n",
    "all_moods['playlist_word_list'].replace([12, 13, 14, 15], str(romantic_words), inplace = True)\n",
    "\n",
    "all_moods['music_word_list'].replace([0, 4, 8, 12], str(popMusic), inplace = True)\n",
    "all_moods['music_word_list'].replace([1, 5, 9, 13], str(countryMusic), inplace = True)\n",
    "all_moods['music_word_list'].replace([2, 6, 10, 14], str(edmMusic), inplace = True)\n",
    "all_moods['music_word_list'].replace([3, 7, 11, 15], str(rockMusic), inplace = True)"
   ]
  },
  {
   "cell_type": "code",
   "execution_count": 300,
   "metadata": {
    "scrolled": true
   },
   "outputs": [
    {
     "data": {
      "text/html": [
       "<div>\n",
       "<style>\n",
       "    .dataframe thead tr:only-child th {\n",
       "        text-align: right;\n",
       "    }\n",
       "\n",
       "    .dataframe thead th {\n",
       "        text-align: left;\n",
       "    }\n",
       "\n",
       "    .dataframe tbody tr th {\n",
       "        vertical-align: top;\n",
       "    }\n",
       "</style>\n",
       "<table border=\"1\" class=\"dataframe\">\n",
       "  <thead>\n",
       "    <tr style=\"text-align: right;\">\n",
       "      <th></th>\n",
       "      <th>moods</th>\n",
       "      <th>genre</th>\n",
       "      <th>links</th>\n",
       "      <th>playlist_word_list</th>\n",
       "      <th>music_word_list</th>\n",
       "    </tr>\n",
       "  </thead>\n",
       "  <tbody>\n",
       "    <tr>\n",
       "      <th>0</th>\n",
       "      <td>angry_playlist</td>\n",
       "      <td>popMusic</td>\n",
       "      <td>https://www.youtube.com/watch?v=p0BiGek2bKA&amp;li...</td>\n",
       "      <td>['a', 'Angry', 'angry', 'ANGRY', 'MAD', 'ANGRY...</td>\n",
       "      <td>['pop', 'Pop', 'p', 'POP']</td>\n",
       "    </tr>\n",
       "    <tr>\n",
       "      <th>1</th>\n",
       "      <td>angry_playlist</td>\n",
       "      <td>countryMusic</td>\n",
       "      <td>https://www.youtube.com/watch?v=WaSy8yy-mr8&amp;li...</td>\n",
       "      <td>['a', 'Angry', 'angry', 'ANGRY', 'MAD', 'ANGRY...</td>\n",
       "      <td>['country', 'Country', 'c', 'C', 'COUNTRY']</td>\n",
       "    </tr>\n",
       "    <tr>\n",
       "      <th>2</th>\n",
       "      <td>angry_playlist</td>\n",
       "      <td>edmMusic</td>\n",
       "      <td>https://www.youtube.com/watch?v=qMH0Xglh7GA&amp;in...</td>\n",
       "      <td>['a', 'Angry', 'angry', 'ANGRY', 'MAD', 'ANGRY...</td>\n",
       "      <td>['edm', 'EDM', 'Edm', 'E', 'e']</td>\n",
       "    </tr>\n",
       "    <tr>\n",
       "      <th>3</th>\n",
       "      <td>angry_playlist</td>\n",
       "      <td>rockMusic</td>\n",
       "      <td>https://www.youtube.com/watch?v=xqds0B_meys&amp;in...</td>\n",
       "      <td>['a', 'Angry', 'angry', 'ANGRY', 'MAD', 'ANGRY...</td>\n",
       "      <td>['Rock', 'rock', 'ROCK', 'r', 'R']</td>\n",
       "    </tr>\n",
       "    <tr>\n",
       "      <th>4</th>\n",
       "      <td>happy_playlist</td>\n",
       "      <td>popMusic</td>\n",
       "      <td>https://www.youtube.com/watch?v=ZbZSe6N_BXs&amp;in...</td>\n",
       "      <td>['h', 'happy', 'HAPPY', 'Happy', 'H', 'Excited...</td>\n",
       "      <td>['pop', 'Pop', 'p', 'POP']</td>\n",
       "    </tr>\n",
       "    <tr>\n",
       "      <th>5</th>\n",
       "      <td>happy_playlist</td>\n",
       "      <td>countryMusic</td>\n",
       "      <td>https://www.youtube.com/watch?v=HgknAaKNaMM&amp;t=...</td>\n",
       "      <td>['h', 'happy', 'HAPPY', 'Happy', 'H', 'Excited...</td>\n",
       "      <td>['country', 'Country', 'c', 'C', 'COUNTRY']</td>\n",
       "    </tr>\n",
       "    <tr>\n",
       "      <th>6</th>\n",
       "      <td>happy_playlist</td>\n",
       "      <td>edmMusic</td>\n",
       "      <td>https://www.youtube.com/watch?v=MjEYCUJuh-g&amp;t=...</td>\n",
       "      <td>['h', 'happy', 'HAPPY', 'Happy', 'H', 'Excited...</td>\n",
       "      <td>['edm', 'EDM', 'Edm', 'E', 'e']</td>\n",
       "    </tr>\n",
       "    <tr>\n",
       "      <th>7</th>\n",
       "      <td>happy_playlist</td>\n",
       "      <td>rockMusic</td>\n",
       "      <td>https://www.youtube.com/watch?v=SAaO6XvUhd0&amp;in...</td>\n",
       "      <td>['h', 'happy', 'HAPPY', 'Happy', 'H', 'Excited...</td>\n",
       "      <td>['Rock', 'rock', 'ROCK', 'r', 'R']</td>\n",
       "    </tr>\n",
       "    <tr>\n",
       "      <th>8</th>\n",
       "      <td>sad_playlist</td>\n",
       "      <td>popMusic</td>\n",
       "      <td>https://www.youtube.com/watch?v=ij_0p_6qTss&amp;t=...</td>\n",
       "      <td>['s', 'sad', 'Sad', 'SAD', 'Upset', 'upset']</td>\n",
       "      <td>['pop', 'Pop', 'p', 'POP']</td>\n",
       "    </tr>\n",
       "    <tr>\n",
       "      <th>9</th>\n",
       "      <td>sad_playlist</td>\n",
       "      <td>countryMusic</td>\n",
       "      <td>https://www.youtube.com/playlist?list=PLInXayG...</td>\n",
       "      <td>['s', 'sad', 'Sad', 'SAD', 'Upset', 'upset']</td>\n",
       "      <td>['country', 'Country', 'c', 'C', 'COUNTRY']</td>\n",
       "    </tr>\n",
       "    <tr>\n",
       "      <th>10</th>\n",
       "      <td>sad_playlist</td>\n",
       "      <td>edmMusic</td>\n",
       "      <td>https://www.youtube.com/playlist?list=PLInXayG...</td>\n",
       "      <td>['s', 'sad', 'Sad', 'SAD', 'Upset', 'upset']</td>\n",
       "      <td>['edm', 'EDM', 'Edm', 'E', 'e']</td>\n",
       "    </tr>\n",
       "    <tr>\n",
       "      <th>11</th>\n",
       "      <td>sad_playlist</td>\n",
       "      <td>rockMusic</td>\n",
       "      <td>https://www.youtube.com/watch?v=4OjiOn5s8s8&amp;li...</td>\n",
       "      <td>['s', 'sad', 'Sad', 'SAD', 'Upset', 'upset']</td>\n",
       "      <td>['Rock', 'rock', 'ROCK', 'r', 'R']</td>\n",
       "    </tr>\n",
       "    <tr>\n",
       "      <th>12</th>\n",
       "      <td>romantic_playlist</td>\n",
       "      <td>popMusic</td>\n",
       "      <td>https://www.youtube.com/watch?v=3AtDnEC4zak&amp;in...</td>\n",
       "      <td>['r', 'romantic', 'Romantic', 'R', 'ROMANTIC',...</td>\n",
       "      <td>['pop', 'Pop', 'p', 'POP']</td>\n",
       "    </tr>\n",
       "    <tr>\n",
       "      <th>13</th>\n",
       "      <td>romantic_playlist</td>\n",
       "      <td>countryMusic</td>\n",
       "      <td>https://www.youtube.com/watch?v=7qaHdHpSjX8&amp;in...</td>\n",
       "      <td>['r', 'romantic', 'Romantic', 'R', 'ROMANTIC',...</td>\n",
       "      <td>['country', 'Country', 'c', 'C', 'COUNTRY']</td>\n",
       "    </tr>\n",
       "    <tr>\n",
       "      <th>14</th>\n",
       "      <td>romantic_playlist</td>\n",
       "      <td>edmMusic</td>\n",
       "      <td>https://www.youtube.com/watch?v=ku16PsxpZGU&amp;t=...</td>\n",
       "      <td>['r', 'romantic', 'Romantic', 'R', 'ROMANTIC',...</td>\n",
       "      <td>['edm', 'EDM', 'Edm', 'E', 'e']</td>\n",
       "    </tr>\n",
       "    <tr>\n",
       "      <th>15</th>\n",
       "      <td>romantic_playlist</td>\n",
       "      <td>rockMusic</td>\n",
       "      <td>https://www.youtube.com/watch?v=iAP9AF6DCu4&amp;t=...</td>\n",
       "      <td>['r', 'romantic', 'Romantic', 'R', 'ROMANTIC',...</td>\n",
       "      <td>['Rock', 'rock', 'ROCK', 'r', 'R']</td>\n",
       "    </tr>\n",
       "  </tbody>\n",
       "</table>\n",
       "</div>"
      ],
      "text/plain": [
       "                moods         genre  \\\n",
       "0      angry_playlist      popMusic   \n",
       "1      angry_playlist  countryMusic   \n",
       "2      angry_playlist      edmMusic   \n",
       "3      angry_playlist     rockMusic   \n",
       "4      happy_playlist      popMusic   \n",
       "5      happy_playlist  countryMusic   \n",
       "6      happy_playlist      edmMusic   \n",
       "7      happy_playlist     rockMusic   \n",
       "8        sad_playlist      popMusic   \n",
       "9        sad_playlist  countryMusic   \n",
       "10       sad_playlist      edmMusic   \n",
       "11       sad_playlist     rockMusic   \n",
       "12  romantic_playlist      popMusic   \n",
       "13  romantic_playlist  countryMusic   \n",
       "14  romantic_playlist      edmMusic   \n",
       "15  romantic_playlist     rockMusic   \n",
       "\n",
       "                                                links  \\\n",
       "0   https://www.youtube.com/watch?v=p0BiGek2bKA&li...   \n",
       "1   https://www.youtube.com/watch?v=WaSy8yy-mr8&li...   \n",
       "2   https://www.youtube.com/watch?v=qMH0Xglh7GA&in...   \n",
       "3   https://www.youtube.com/watch?v=xqds0B_meys&in...   \n",
       "4   https://www.youtube.com/watch?v=ZbZSe6N_BXs&in...   \n",
       "5   https://www.youtube.com/watch?v=HgknAaKNaMM&t=...   \n",
       "6   https://www.youtube.com/watch?v=MjEYCUJuh-g&t=...   \n",
       "7   https://www.youtube.com/watch?v=SAaO6XvUhd0&in...   \n",
       "8   https://www.youtube.com/watch?v=ij_0p_6qTss&t=...   \n",
       "9   https://www.youtube.com/playlist?list=PLInXayG...   \n",
       "10  https://www.youtube.com/playlist?list=PLInXayG...   \n",
       "11  https://www.youtube.com/watch?v=4OjiOn5s8s8&li...   \n",
       "12  https://www.youtube.com/watch?v=3AtDnEC4zak&in...   \n",
       "13  https://www.youtube.com/watch?v=7qaHdHpSjX8&in...   \n",
       "14  https://www.youtube.com/watch?v=ku16PsxpZGU&t=...   \n",
       "15  https://www.youtube.com/watch?v=iAP9AF6DCu4&t=...   \n",
       "\n",
       "                                   playlist_word_list  \\\n",
       "0   ['a', 'Angry', 'angry', 'ANGRY', 'MAD', 'ANGRY...   \n",
       "1   ['a', 'Angry', 'angry', 'ANGRY', 'MAD', 'ANGRY...   \n",
       "2   ['a', 'Angry', 'angry', 'ANGRY', 'MAD', 'ANGRY...   \n",
       "3   ['a', 'Angry', 'angry', 'ANGRY', 'MAD', 'ANGRY...   \n",
       "4   ['h', 'happy', 'HAPPY', 'Happy', 'H', 'Excited...   \n",
       "5   ['h', 'happy', 'HAPPY', 'Happy', 'H', 'Excited...   \n",
       "6   ['h', 'happy', 'HAPPY', 'Happy', 'H', 'Excited...   \n",
       "7   ['h', 'happy', 'HAPPY', 'Happy', 'H', 'Excited...   \n",
       "8        ['s', 'sad', 'Sad', 'SAD', 'Upset', 'upset']   \n",
       "9        ['s', 'sad', 'Sad', 'SAD', 'Upset', 'upset']   \n",
       "10       ['s', 'sad', 'Sad', 'SAD', 'Upset', 'upset']   \n",
       "11       ['s', 'sad', 'Sad', 'SAD', 'Upset', 'upset']   \n",
       "12  ['r', 'romantic', 'Romantic', 'R', 'ROMANTIC',...   \n",
       "13  ['r', 'romantic', 'Romantic', 'R', 'ROMANTIC',...   \n",
       "14  ['r', 'romantic', 'Romantic', 'R', 'ROMANTIC',...   \n",
       "15  ['r', 'romantic', 'Romantic', 'R', 'ROMANTIC',...   \n",
       "\n",
       "                                music_word_list  \n",
       "0                    ['pop', 'Pop', 'p', 'POP']  \n",
       "1   ['country', 'Country', 'c', 'C', 'COUNTRY']  \n",
       "2               ['edm', 'EDM', 'Edm', 'E', 'e']  \n",
       "3            ['Rock', 'rock', 'ROCK', 'r', 'R']  \n",
       "4                    ['pop', 'Pop', 'p', 'POP']  \n",
       "5   ['country', 'Country', 'c', 'C', 'COUNTRY']  \n",
       "6               ['edm', 'EDM', 'Edm', 'E', 'e']  \n",
       "7            ['Rock', 'rock', 'ROCK', 'r', 'R']  \n",
       "8                    ['pop', 'Pop', 'p', 'POP']  \n",
       "9   ['country', 'Country', 'c', 'C', 'COUNTRY']  \n",
       "10              ['edm', 'EDM', 'Edm', 'E', 'e']  \n",
       "11           ['Rock', 'rock', 'ROCK', 'r', 'R']  \n",
       "12                   ['pop', 'Pop', 'p', 'POP']  \n",
       "13  ['country', 'Country', 'c', 'C', 'COUNTRY']  \n",
       "14              ['edm', 'EDM', 'Edm', 'E', 'e']  \n",
       "15           ['Rock', 'rock', 'ROCK', 'r', 'R']  "
      ]
     },
     "execution_count": 300,
     "metadata": {},
     "output_type": "execute_result"
    }
   ],
   "source": [
    "all_moods"
   ]
  },
  {
   "cell_type": "code",
   "execution_count": 433,
   "metadata": {},
   "outputs": [],
   "source": [
    "def p():\n",
    "    count = 5\n",
    "    print('Happy Listening')\n",
    "    \n",
    "def g(x, y):\n",
    "\n",
    "    count = 0\n",
    "    while count < 2:\n",
    "\n",
    "        g.mood = input(\"Enter how you are feeling(your mood)\\n>>\")\n",
    "        g.music = input(\"Enter the type of music you want to hear, either pop, country, EDM, Classical, or Rock\\n>>\")\n",
    "\n",
    "        if g.mood in x and g.music in popMusic:\n",
    "            webbrowser.open(y.link[0])\n",
    "            g.store_music = y.link[0]\n",
    "            p()\n",
    "            break\n",
    "        elif g.mood in x and g.music in countryMusic:\n",
    "            webbrowser.open(y.link[1])\n",
    "            g.store_music = y.link[1]\n",
    "            p()\n",
    "            break\n",
    "        elif g.mood in x and g.music in edmMusic:\n",
    "            webbrowser.open(y.link[2])\n",
    "            g.store_music = y.link[2]\n",
    "            p()\n",
    "            break\n",
    "        elif g.mood in x and g.music in rockMusic:\n",
    "            webbrowser.open(y.link[3])\n",
    "            g.store_music = y.link[3]\n",
    "            p()\n",
    "            break\n",
    "        else:\n",
    "            print('Your music not found')\n",
    "\n",
    "        count = count + 1\n",
    "        \n",
    "# only works for angry"
   ]
  },
  {
   "cell_type": "code",
   "execution_count": null,
   "metadata": {
    "collapsed": true
   },
   "outputs": [],
   "source": [
    "# make 3 columns moods, genres, link"
   ]
  },
  {
   "cell_type": "code",
   "execution_count": 459,
   "metadata": {},
   "outputs": [
    {
     "name": "stdout",
     "output_type": "stream",
     "text": [
      "Enter how you are feeling(your mood)\n",
      ">>a\n",
      "Enter the type of music you want to hear, either pop, country, EDM, Classical, or Rock\n",
      ">>p\n",
      "Happy Listening\n"
     ]
    }
   ],
   "source": [
    "g(angry_words, angry)"
   ]
  },
  {
   "cell_type": "code",
   "execution_count": 437,
   "metadata": {},
   "outputs": [
    {
     "data": {
      "text/plain": [
       "'https://www.youtube.com/watch?v=qMH0Xglh7GA&index=2&t=0s&list=PLInXayGqDh8m4IVtEKYBnJd-WCl9BdCXG'"
      ]
     },
     "execution_count": 437,
     "metadata": {},
     "output_type": "execute_result"
    }
   ],
   "source": [
    "g.store_music"
   ]
  },
  {
   "cell_type": "code",
   "execution_count": 442,
   "metadata": {},
   "outputs": [
    {
     "data": {
      "text/plain": [
       "'a'"
      ]
     },
     "execution_count": 442,
     "metadata": {},
     "output_type": "execute_result"
    }
   ],
   "source": [
    "g.mood"
   ]
  },
  {
   "cell_type": "code",
   "execution_count": 460,
   "metadata": {},
   "outputs": [
    {
     "data": {
      "text/plain": [
       "'p'"
      ]
     },
     "execution_count": 460,
     "metadata": {},
     "output_type": "execute_result"
    }
   ],
   "source": [
    "g.music"
   ]
  },
  {
   "cell_type": "code",
   "execution_count": 438,
   "metadata": {
    "collapsed": true
   },
   "outputs": [],
   "source": [
    "from bs4 import BeautifulSoup as bs\n",
    "from urllib.request import urlopen\n",
    "\n",
    "Angry_Pop = []\n",
    "Angry_Rock = []\n",
    "Angry_Edm = []\n",
    "Angry_Country = []\n",
    "\n",
    "def link(http):\n",
    "    url = http\n",
    "    page = urlopen(url)\n",
    "    soup = bs(page, 'html.parser')\n",
    "    return soup.title.get_text()"
   ]
  },
  {
   "cell_type": "code",
   "execution_count": 461,
   "metadata": {
    "collapsed": true
   },
   "outputs": [],
   "source": [
    "if g.mood in angry_words and g.music in popMusic:\n",
    "    Angry_Pop.append(link(g.store_music))\n",
    "    \n",
    "elif g.mood in angry_words and g.music in edmMusic:\n",
    "    Angry_Edm.append(link(g.store_music))\n",
    "    \n",
    "elif g.mood in angry_words and g.music in rockMusic:\n",
    "    Angry_Rock.append(link(g.store_music))\n",
    "\n",
    "elif g.mood in angry_words and g.music in countryMusic:\n",
    "    Angry_Country.append(link(g.store_music))"
   ]
  },
  {
   "cell_type": "code",
   "execution_count": 462,
   "metadata": {},
   "outputs": [
    {
     "data": {
      "text/plain": [
       "['Since U Been Gone - YouTube', 'Since U Been Gone - YouTube']"
      ]
     },
     "execution_count": 462,
     "metadata": {},
     "output_type": "execute_result"
    }
   ],
   "source": [
    "Angry_Pop"
   ]
  }
 ],
 "metadata": {
  "kernelspec": {
   "display_name": "Python 3",
   "language": "python",
   "name": "python3"
  },
  "language_info": {
   "codemirror_mode": {
    "name": "ipython",
    "version": 3
   },
   "file_extension": ".py",
   "mimetype": "text/x-python",
   "name": "python",
   "nbconvert_exporter": "python",
   "pygments_lexer": "ipython3",
   "version": "3.6.1"
  }
 },
 "nbformat": 4,
 "nbformat_minor": 2
}
